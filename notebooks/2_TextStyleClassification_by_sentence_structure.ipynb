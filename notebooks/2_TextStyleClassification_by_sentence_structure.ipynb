{
  "nbformat": 4,
  "nbformat_minor": 0,
  "metadata": {
    "colab": {
      "provenance": []
    },
    "kernelspec": {
      "name": "python3",
      "display_name": "Python 3"
    },
    "language_info": {
      "name": "python"
    }
  },
  "cells": [
    {
      "cell_type": "code",
      "execution_count": null,
      "metadata": {
        "id": "7HQiAroMzLhJ"
      },
      "outputs": [],
      "source": [
        "!pip install lightning"
      ]
    },
    {
      "cell_type": "code",
      "source": [
        "!pip install natasha"
      ],
      "metadata": {
        "id": "Me1I-2NyzOY-"
      },
      "execution_count": null,
      "outputs": []
    },
    {
      "cell_type": "code",
      "source": [
        "import pandas as pd\n",
        "import numpy as np\n",
        "import torchtext\n",
        "import torch\n",
        "from torchtext.vocab import build_vocab_from_iterator\n",
        "from collections import Counter\n",
        "import natasha\n",
        "from natasha import Segmenter, Doc\n",
        "from torch.utils.data import TensorDataset, random_split, DataLoader\n",
        "import torch\n",
        "from torch import nn\n",
        "\n",
        "\n",
        "import torchmetrics\n",
        "import lightning.pytorch as pl\n",
        "from lightning.pytorch.callbacks.early_stopping import EarlyStopping\n",
        "from lightning.pytorch.callbacks import ModelCheckpoint\n",
        "from pytorch_lightning.callbacks import ModelSummary\n",
        "from lightning.pytorch.tuner import Tuner\n",
        "from torch.optim.lr_scheduler import ReduceLROnPlateau\n",
        "from lightning.pytorch.callbacks import Callback\n",
        "import matplotlib.pyplot as plt\n",
        "\n",
        "from navec import Navec\n",
        "from slovnet.model.emb import NavecEmbedding"
      ],
      "metadata": {
        "id": "C47qPLWFzQ0h"
      },
      "execution_count": null,
      "outputs": []
    },
    {
      "cell_type": "markdown",
      "source": [
        "###**Text classification with Word Embeddings**"
      ],
      "metadata": {
        "id": "QxvrtDwTzj1n"
      }
    },
    {
      "cell_type": "code",
      "source": [
        "!wget https://storage.yandexcloud.net/natasha-navec/packs/navec_hudlit_v1_12B_500K_300d_100q.tar"
      ],
      "metadata": {
        "id": "ZBvFNBlrzg5z"
      },
      "execution_count": null,
      "outputs": []
    },
    {
      "cell_type": "code",
      "source": [
        "csv_file_path = '/content/texts_augmented (translation).csv'\n",
        "dataframe = pd.read_csv(csv_file_path, sep=';', encoding=\"cp1251\")\n",
        "dataframe.loc[:, \"Style\"] = dataframe.loc[:, \"Style\"].astype('category').cat.codes"
      ],
      "metadata": {
        "id": "A8N7rw_rzUMh"
      },
      "execution_count": null,
      "outputs": []
    },
    {
      "cell_type": "code",
      "source": [
        "X_text = dataframe.iloc[:, 0].values\n",
        "y_targets = dataframe.iloc[:, 1].values"
      ],
      "metadata": {
        "id": "ZB_eBlGXzVIB"
      },
      "execution_count": null,
      "outputs": []
    },
    {
      "cell_type": "code",
      "source": [
        "# Texts to lower\n",
        "X_text = [text.lower() for text in X_text]"
      ],
      "metadata": {
        "id": "bCs7b72ozWE2"
      },
      "execution_count": null,
      "outputs": []
    },
    {
      "cell_type": "code",
      "source": [
        "path = 'navec_hudlit_v1_12B_500K_300d_100q.tar'\n",
        "navec = Navec.load(path)"
      ],
      "metadata": {
        "id": "F-ITbmfXzXMa"
      },
      "execution_count": null,
      "outputs": []
    },
    {
      "cell_type": "code",
      "source": [
        "def maxTextLen(X_text, navec):\n",
        "  segmenter = Segmenter()\n",
        "  text_lens = []\n",
        "  for text in X_text:\n",
        "    doc = Doc(text)\n",
        "    doc.segment(segmenter)\n",
        "    text_tokens = [token.text for token in doc.tokens if token.text in navec]\n",
        "    text_lens.append(len(text_tokens))\n",
        "  max_text_len = max(text_lens)\n",
        "  return max_text_len\n",
        "\n",
        "def textToTensorDataset(X_data, y_data, max_text_len, navec):\n",
        "  segmenter = Segmenter()\n",
        "  num_texts = len(X_data)\n",
        "  texts_tensor = torch.zeros(num_texts, max_text_len + 2).long()\n",
        "  targets_tensor = torch.tensor(y_data).long()\n",
        "\n",
        "  for text_i, text in enumerate(X_text):\n",
        "    doc = Doc(text)\n",
        "    doc.segment(segmenter)\n",
        "    text_tokens = [token.text for token in doc.tokens if token.text in navec]\n",
        "    for token_i, token in enumerate(text_tokens):\n",
        "        texts_tensor[text_i, token_i + 1] = navec.vocab[token]\n",
        "  return TensorDataset(texts_tensor, targets_tensor)"
      ],
      "metadata": {
        "id": "MICVoK39zYJ9"
      },
      "execution_count": null,
      "outputs": []
    },
    {
      "cell_type": "code",
      "source": [
        "max_text_len = maxTextLen(X_text, navec)\n",
        "train_dataset = textToTensorDataset(X_text, y_targets, max_text_len, navec)"
      ],
      "metadata": {
        "id": "nEcwqfOjzZMV"
      },
      "execution_count": null,
      "outputs": []
    },
    {
      "cell_type": "code",
      "source": [
        "class CustomConv1D(nn.Module):\n",
        "  def __init__(self,\n",
        "               in_channels:int,\n",
        "               out_channels:int,\n",
        "               kernel_size:int,\n",
        "               dilation:int):\n",
        "    super().__init__()\n",
        "    self.conv1d = nn.Conv1d(in_channels=in_channels, out_channels=out_channels, kernel_size=kernel_size, stride=1, padding=kernel_size//2, dilation=dilation)\n",
        "    self.activation = nn.LeakyReLU(0.2);\n",
        "\n",
        "  def forward(self, x):\n",
        "    x = self.conv1d(x)\n",
        "    x = self.activation(x)\n",
        "    return x"
      ],
      "metadata": {
        "id": "UQ1l_Ls90KuK"
      },
      "execution_count": null,
      "outputs": []
    },
    {
      "cell_type": "code",
      "source": [
        "class TokenCNN(nn.Module):\n",
        "  def __init__(self,\n",
        "               in_embed_size:int,\n",
        "               context_embed_size:int):\n",
        "    super().__init__()\n",
        "    self.conv_1_1 = CustomConv1D(in_channels=in_embed_size, out_channels=context_embed_size, kernel_size=7, dilation=1)\n",
        "    self.conv_1_2 = CustomConv1D(in_channels=context_embed_size, out_channels=context_embed_size, kernel_size=3, dilation=1)\n",
        "    self.pooling_1 = nn.MaxPool1d(kernel_size=3, stride=3)\n",
        "\n",
        "    self.conv_2_1 = CustomConv1D(in_channels=context_embed_size, out_channels=context_embed_size, kernel_size=7, dilation=1)\n",
        "    self.conv_2_2 = CustomConv1D(in_channels=context_embed_size, out_channels=context_embed_size, kernel_size=3, dilation=1)\n",
        "    self.pooling_2 = nn.MaxPool1d(kernel_size=3, stride=3)\n",
        "\n",
        "    self.conv_3_1 = CustomConv1D(in_channels=context_embed_size, out_channels=context_embed_size, kernel_size=7, dilation=1)\n",
        "    self.conv_3_2 = CustomConv1D(in_channels=context_embed_size, out_channels=context_embed_size, kernel_size=3, dilation=1)\n",
        "    self.pooling_3 = nn.MaxPool1d(kernel_size=3, stride=3)\n",
        "\n",
        "    self.conv_4_1 = CustomConv1D(in_channels=context_embed_size, out_channels=context_embed_size, kernel_size=7, dilation=1)\n",
        "    self.conv_4_2 = CustomConv1D(in_channels=context_embed_size, out_channels=context_embed_size, kernel_size=3, dilation=1)\n",
        "    self.pooling_4 = nn.MaxPool1d(kernel_size=3, stride=3)\n",
        "\n",
        "  def forward(self, x):\n",
        "    x = self.conv_1_1(x)\n",
        "    x = x + self.conv_1_2(x)\n",
        "    x = self.pooling_1(x)\n",
        "\n",
        "    x = self.conv_2_1(x)\n",
        "    x = x + self.conv_2_2(x)\n",
        "    x = self.pooling_2(x)\n",
        "\n",
        "    x = self.conv_3_1(x)\n",
        "    x = x + self.conv_3_2(x)\n",
        "    x = self.pooling_3(x)\n",
        "\n",
        "    x = self.conv_4_1(x)\n",
        "    x = x + self.conv_4_2(x)\n",
        "    x = self.pooling_4(x)\n",
        "    return x"
      ],
      "metadata": {
        "id": "_cGidMn8zaOl"
      },
      "execution_count": null,
      "outputs": []
    },
    {
      "cell_type": "code",
      "source": [
        "class ClassificationHead(nn.Module):\n",
        "  def __init__(self,\n",
        "               in_features:int,\n",
        "               out_features:int,\n",
        "               dropout:float):\n",
        "    super().__init__()\n",
        "    self.dropout = nn.Dropout(dropout)\n",
        "    self.classifier = nn.Linear(in_features=in_features, out_features=out_features)\n",
        "\n",
        "  def forward(self, x):\n",
        "    x = self.dropout(x)\n",
        "    x = self.classifier(x)\n",
        "    return x"
      ],
      "metadata": {
        "id": "QUMikTur0OqP"
      },
      "execution_count": null,
      "outputs": []
    },
    {
      "cell_type": "code",
      "source": [
        "class Network(nn.Module):\n",
        "    def __init__(self,\n",
        "                 num_classes,\n",
        "                 max_text_len,\n",
        "                 token_embedding_size=256,\n",
        "                 classifier_dropout=0.5):\n",
        "        super().__init__()\n",
        "        self.embeddings = NavecEmbedding(navec)\n",
        "        self.token_cnn = TokenCNN(in_embed_size=300, context_embed_size=token_embedding_size)\n",
        "        self.global_pooling_context = nn.AdaptiveMaxPool1d(1)\n",
        "        self.classification_head = ClassificationHead(in_features=token_embedding_size, out_features=num_classes, dropout=classifier_dropout)\n",
        "\n",
        "    def forward(self, tokens):\n",
        "        batch_size, max_text_len = tokens.shape            # BatchSize x MaxTextLen\n",
        "\n",
        "        word_embeddings = self.embeddings(tokens)          # BatchSize x MaxTokenLen x EmbSize\n",
        "        word_embeddings = word_embeddings.permute(0, 2, 1) # BatchSize x EmbSize x MaxTextLen\n",
        "\n",
        "        context_features = self.token_cnn(word_embeddings)                         # BatchSize x EmbSize x MaxTextLen\n",
        "        text_features = self.global_pooling_context(context_features).squeeze(-1)  # BatchSize x EmbSize\n",
        "        logits = self.classification_head(text_features)                           # BatchSize x num_classes\n",
        "        return logits"
      ],
      "metadata": {
        "id": "AIQxht5mzbWb"
      },
      "execution_count": null,
      "outputs": []
    },
    {
      "cell_type": "code",
      "source": [
        "class DataModule(pl.LightningDataModule):\n",
        "  def __init__(self,\n",
        "               tensor_dataset,\n",
        "               batch_size):\n",
        "    super().__init__()\n",
        "    self.tensor_dataset = tensor_dataset\n",
        "    self.batch_size = batch_size\n",
        "    self.prepare_data()\n",
        "\n",
        "  def setup(self, stage=None):\n",
        "    train_size = int(0.8 * len(self.tensor_dataset))\n",
        "    val_size = len(self.tensor_dataset) - train_size\n",
        "    self.train_data, self.val_data = random_split(self.tensor_dataset, [train_size, val_size])\n",
        "    return self.train_data, self.val_data\n",
        "\n",
        "  def train_dataloader(self):\n",
        "    return DataLoader(self.train_data, batch_size=self.batch_size, shuffle=True, num_workers=2)\n",
        "\n",
        "  def val_dataloader(self):\n",
        "    return DataLoader(self.val_data, batch_size=self.batch_size, shuffle = False, num_workers=2)"
      ],
      "metadata": {
        "id": "GFXEKUd0zmri"
      },
      "execution_count": null,
      "outputs": []
    },
    {
      "cell_type": "code",
      "source": [
        "class ModelCompilation(pl.LightningModule):\n",
        "    def __init__(self,\n",
        "                 model:torch.nn.Module,\n",
        "                 metrics:dict,\n",
        "                 loss_function,\n",
        "                 optimizer:torch.optim,\n",
        "                 learning_rate:float):\n",
        "        super().__init__()\n",
        "        self.model = model\n",
        "        self.metrics = metrics\n",
        "        self.loss_function = loss_function\n",
        "        self.optimizer = optimizer\n",
        "        self.learning_rate = learning_rate\n",
        "        self.save_hyperparameters(logger=False)\n",
        "\n",
        "    def forward(self, x):\n",
        "        pred = self.model.forward(x)\n",
        "        return pred\n",
        "\n",
        "    def configure_optimizers(self):\n",
        "        train_optimizer = self.optimizer(self.parameters(), lr=self.learning_rate, weight_decay=0.05, betas = (0.9, 0.98), eps = 1.0e-9)\n",
        "        train_scheduler = {\n",
        "            \"scheduler\": ReduceLROnPlateau(optimizer=train_optimizer, mode=\"min\", factor=0.1, patience=1, min_lr=5e-6),\n",
        "            \"interval\": \"epoch\",\n",
        "            \"frequency\": 1,\n",
        "            \"monitor\": \"val_loss\",\n",
        "        }\n",
        "        return [train_optimizer], [train_scheduler]\n",
        "\n",
        "    def training_step(self, batch, batch_idx):\n",
        "        loss, pred, y = self.common_step(batch, batch_idx, 'train')\n",
        "        return loss\n",
        "\n",
        "    def validation_step(self, batch, batch_idx):\n",
        "        loss, pred, y = self.common_step(batch, batch_idx, 'val')\n",
        "        return loss\n",
        "\n",
        "    def test_step(self, batch, batch_idx):\n",
        "        loss, pred, y = self.common_step(batch, batch_idx, 'test')\n",
        "        return loss\n",
        "\n",
        "    def common_step(self, batch, batch_idx, stage):\n",
        "        x, y = batch\n",
        "        pred = self.forward(x)\n",
        "        loss = self.loss_function(pred, y)\n",
        "        if (stage == 'test') or (stage == 'val'):\n",
        "            on_step = False\n",
        "        else:\n",
        "            on_step = True\n",
        "\n",
        "        [self.log(stage + '_' + metric_name, metric(pred, y).to(device), on_step=on_step, on_epoch=True, prog_bar=True, logger=True) for metric_name, metric in self.metrics.items()]\n",
        "        self.log(stage + '_' + 'loss', loss, on_step=on_step, on_epoch=True, prog_bar=True, logger=True)\n",
        "        return loss, pred, y"
      ],
      "metadata": {
        "id": "E5Q33LUmznty"
      },
      "execution_count": null,
      "outputs": []
    },
    {
      "cell_type": "code",
      "source": [
        "class History(Callback):\n",
        "    def __init__(self):\n",
        "        self.history = {'val_loss': np.array([]), 'val_accuracy': np.array([]), 'train_loss_epoch' : np.array([]), 'train_accuracy_epoch' : np.array([])}\n",
        "\n",
        "    def on_train_epoch_end(self, trainer, module):\n",
        "        logs = trainer.logged_metrics\n",
        "        self.history['train_loss_epoch'] = np.append(self.history['train_loss_epoch'], logs['train_loss_epoch'].cpu())\n",
        "        self.history['val_loss'] = np.append(self.history['val_loss'], logs['val_loss'].cpu())\n",
        "        self.history['train_accuracy_epoch'] = np.append(self.history['train_accuracy_epoch'], logs['train_accuracy_epoch'].cpu())\n",
        "        self.history['val_accuracy'] = np.append(self.history['val_accuracy'], logs['val_accuracy'].cpu())"
      ],
      "metadata": {
        "id": "z6wGRBe9zos2"
      },
      "execution_count": null,
      "outputs": []
    },
    {
      "cell_type": "code",
      "source": [
        "def fit(iteration):\n",
        "  num_classes = 5\n",
        "  task = 'multiclass'\n",
        "  network = Network(num_classes=num_classes,\n",
        "                    max_text_len=max_text_len,\n",
        "                    token_embedding_size=256,\n",
        "                    classifier_dropout=0.5\n",
        "                    )\n",
        "\n",
        "  metrics = {'accuracy': torchmetrics.Accuracy(task=task, num_classes=num_classes).to(device)}\n",
        "  loss_function = nn.CrossEntropyLoss()\n",
        "  optimizer = torch.optim.AdamW\n",
        "  learning_rate = 0.0005\n",
        "\n",
        "  earlystopping_callback = EarlyStopping(monitor=\"val_loss\", mode=\"min\", patience=5)\n",
        "  checkpoint_callback = ModelCheckpoint(monitor='val_loss', filename='model-{epoch:02d}-{val_loss:.2f}-{val_accuracy:.2f}')\n",
        "  history_callback = History()\n",
        "\n",
        "  model = ModelCompilation(network, metrics, loss_function, optimizer, learning_rate)\n",
        "  trainer = pl.Trainer(callbacks=[earlystopping_callback, history_callback, checkpoint_callback], precision='32', accelerator=device, devices=1, max_epochs=50)\n",
        "\n",
        "  trainer.fit(model, datamodule=data_module)\n",
        "  print(\"Best model score for iteration \" + str(iteration) + \" : \" + str(checkpoint_callback.best_model_score))\n",
        "  return checkpoint_callback, history_callback"
      ],
      "metadata": {
        "id": "zrAiw27d17lf"
      },
      "execution_count": null,
      "outputs": []
    },
    {
      "cell_type": "code",
      "source": [
        "device = 'cpu'\n",
        "trials = 5\n",
        "best_score = 100\n",
        "best_model_path = ''\n",
        "data_module = DataModule(tensor_dataset=train_dataset, batch_size=8)\n",
        "for i in range(trials):\n",
        "  checkpoint, history = fit(i)\n",
        "  if(checkpoint.best_model_score < best_score):\n",
        "    best_score = checkpoint.best_model_score\n",
        "    best_model_path = checkpoint.best_model_path\n",
        "    best_history = history\n",
        "\n",
        "print(\"Best model score for \" + str(trials) + \" trials: \" + str(best_score))\n",
        "print(\"Best model path: \" + best_model_path)"
      ],
      "metadata": {
        "id": "s30y6I4v5J1U"
      },
      "execution_count": null,
      "outputs": []
    },
    {
      "cell_type": "code",
      "source": [
        "def plot_train_metrics(history_callback):\n",
        "  plt.figure()\n",
        "  plt.plot(list(range(len(history_callback.history['train_loss_epoch']))), history_callback.history['train_loss_epoch'])\n",
        "  plt.plot(list(range(len(history_callback.history['val_loss']))), history_callback.history['val_loss'])\n",
        "  plt.legend(['train_loss', 'val_loss'])\n",
        "\n",
        "  plt.figure()\n",
        "  plt.plot(list(range(len(history_callback.history['train_accuracy_epoch']))), history_callback.history['train_accuracy_epoch'])\n",
        "  plt.plot(list(range(len(history_callback.history['val_accuracy']))), history_callback.history['val_accuracy'])\n",
        "  plt.legend(['train_accuracy', 'val_accuracy'])\n",
        "  plt.show()"
      ],
      "metadata": {
        "id": "zYJZNb57zs7c"
      },
      "execution_count": null,
      "outputs": []
    },
    {
      "cell_type": "code",
      "source": [
        "plot_train_metrics(best_history)"
      ],
      "metadata": {
        "id": "U4gRHyPkKhY9",
        "colab": {
          "base_uri": "https://localhost:8080/",
          "height": 843
        },
        "outputId": "3e5e1826-b2bd-47cb-8aae-581952b03e27"
      },
      "execution_count": null,
      "outputs": [
        {
          "output_type": "display_data",
          "data": {
            "text/plain": [
              "<Figure size 640x480 with 1 Axes>"
            ],
            "image/png": "[encoded data removed]"
          },
          "metadata": {}
        },
        {
          "output_type": "display_data",
          "data": {
            "text/plain": [
              "<Figure size 640x480 with 1 Axes>"
            ],
            "image/png": "[encoded data removed]"
          },
          "metadata": {}
        }
      ]
    },
    {
      "cell_type": "code",
      "source": [
        "def load_pretrained_model(checkpoint_path):\n",
        "  num_classes = 5\n",
        "  task = 'multiclass'\n",
        "  network = Network(num_classes=num_classes,\n",
        "                    max_text_len=max_text_len,\n",
        "                    token_embedding_size=256,\n",
        "                    classifier_dropout=0.5\n",
        "                    )\n",
        "\n",
        "  metrics = {'accuracy': torchmetrics.Accuracy(task=task, num_classes=num_classes).to(device)}\n",
        "  loss_function = nn.CrossEntropyLoss()\n",
        "  optimizer = torch.optim.AdamW\n",
        "  learning_rate = 0.0005\n",
        "\n",
        "  model = ModelCompilation(network, metrics, loss_function, optimizer, learning_rate)\n",
        "  model = model.load_from_checkpoint(checkpoint_path)\n",
        "  return model"
      ],
      "metadata": {
        "id": "4wrDLXsO6HZa"
      },
      "execution_count": null,
      "outputs": []
    },
    {
      "cell_type": "code",
      "source": [
        "def predictStyleForText(text, model, navec, max_text_len):\n",
        "  texts_tensor = torch.zeros(1, max_text_len + 2).long()\n",
        "  text = text.lower()\n",
        "  segmenter = Segmenter()\n",
        "  doc = Doc(text)\n",
        "  doc.segment(segmenter)\n",
        "  text_tokens = [token.text for token in doc.tokens if token.text in navec]\n",
        "  for token_i, token in enumerate(text_tokens):\n",
        "      texts_tensor[0][token_i + 1] = navec.vocab[token]\n",
        "\n",
        "  model.eval()\n",
        "  logits = model.forward(texts_tensor)\n",
        "  proba = torch.nn.functional.softmax(logits.data, dim=1)\n",
        "  return proba"
      ],
      "metadata": {
        "id": "_MzOyKvoDrGS"
      },
      "execution_count": null,
      "outputs": []
    }
  ]
}